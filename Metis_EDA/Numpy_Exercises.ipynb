{
 "cells": [
  {
   "cell_type": "code",
   "execution_count": 1,
   "id": "189631e9",
   "metadata": {},
   "outputs": [],
   "source": [
    "import numpy as np"
   ]
  },
  {
   "cell_type": "markdown",
   "id": "0350e626",
   "metadata": {},
   "source": [
    "Problem 1"
   ]
  },
  {
   "cell_type": "code",
   "execution_count": 4,
   "id": "9e6862f7",
   "metadata": {},
   "outputs": [],
   "source": [
    "array1 = np.random.uniform(low=1,high=100,size=10000)\n",
    "array2 = np.random.normal(loc=0,scale=1,size=10000)\n",
    "array3 = np.random.binomial(n=10,p=.5,size=10000)"
   ]
  },
  {
   "cell_type": "markdown",
   "id": "129b9052",
   "metadata": {},
   "source": [
    "Problem 2"
   ]
  },
  {
   "cell_type": "code",
   "execution_count": 7,
   "id": "235f4f51",
   "metadata": {},
   "outputs": [],
   "source": [
    "array1_p2 = np.random.choice(array1, size = 1000,replace=False)\n",
    "array2_p2 = np.random.choice(array2, size = 1000,replace=False)\n",
    "array3_p2 = np.random.choice(array3, size = 1000,replace=False)"
   ]
  },
  {
   "cell_type": "markdown",
   "id": "5be8c901",
   "metadata": {},
   "source": [
    "Problem 3"
   ]
  },
  {
   "cell_type": "code",
   "execution_count": 16,
   "id": "a333a814",
   "metadata": {},
   "outputs": [],
   "source": [
    "array1_mean = array1_p2.mean()\n",
    "array1_median = np.median(array1_p2)\n",
    "array1_std = array1_p2.std()\n",
    "array1_max_index = array1_p2.argmax()\n",
    "array1_max_ = np.amax(array1_p2)\n",
    "array1_75 = np.percentile(array1_p2,75)"
   ]
  },
  {
   "cell_type": "code",
   "execution_count": 18,
   "id": "ae57ce9c",
   "metadata": {},
   "outputs": [],
   "source": [
    "array2_mean = array2_p2.mean()\n",
    "array2_median = np.median(array2_p2)\n",
    "array2_std = array2_p2.std()\n",
    "array2_max_index = array2_p2.argmax()\n",
    "array2_max_ = np.amax(array2_p2)\n",
    "array2_75 = np.percentile(array2_p2,75)"
   ]
  },
  {
   "cell_type": "code",
   "execution_count": 17,
   "id": "65335c0b",
   "metadata": {},
   "outputs": [],
   "source": [
    "array3_mean = array3_p2.mean()\n",
    "array3_median = np.median(array3_p2)\n",
    "array3_std = array3_p2.std()\n",
    "array3_max_index = array3_p2.argmax()\n",
    "array3_max_ = np.amax(array3_p2)\n",
    "array3_75 = np.percentile(array3_p2,75)"
   ]
  },
  {
   "cell_type": "markdown",
   "id": "2709a867",
   "metadata": {},
   "source": [
    "Problem 4"
   ]
  },
  {
   "cell_type": "code",
   "execution_count": 23,
   "id": "7c94e9bf",
   "metadata": {},
   "outputs": [],
   "source": [
    "array1_sorted = np.sort(array1_p2)\n",
    "array2_sorted = np.sort(array2_p2)\n",
    "array3_sorted = np.sort(array2_p2)\n",
    "arrays_stacked = np.stack((array1_sorted,array2_sorted,array3_sorted))"
   ]
  },
  {
   "cell_type": "markdown",
   "id": "1246effd",
   "metadata": {},
   "source": [
    "Problem 5"
   ]
  },
  {
   "cell_type": "code",
   "execution_count": 26,
   "id": "42d724d4",
   "metadata": {},
   "outputs": [],
   "source": [
    "arrays_stacked = np.where(arrays_stacked < 0,0,arrays_stacked)\n",
    "arrays_stacked = np.where(arrays_stacked > 10,10,arrays_stacked)"
   ]
  },
  {
   "cell_type": "markdown",
   "id": "f245c8ec",
   "metadata": {},
   "source": [
    "Problem 6"
   ]
  },
  {
   "cell_type": "code",
   "execution_count": 27,
   "id": "9e180b9e",
   "metadata": {},
   "outputs": [],
   "source": [
    "arrays_stacked = np.where(arrays_stacked > 5, arrays_stacked - 5,arrays_stacked)"
   ]
  },
  {
   "cell_type": "markdown",
   "id": "f50ba498",
   "metadata": {},
   "source": [
    "Problem 7"
   ]
  },
  {
   "cell_type": "code",
   "execution_count": 74,
   "id": "fef43979",
   "metadata": {},
   "outputs": [],
   "source": [
    "column1 = arrays_stacked[0]\n",
    "column2 = arrays_stacked[1]\n",
    "fourth_column = np.array(column1+column2)\n",
    "fourth = fourth_column[:,None]"
   ]
  },
  {
   "cell_type": "code",
   "execution_count": 75,
   "id": "764f2d6b",
   "metadata": {},
   "outputs": [],
   "source": [
    "fourth_column_added = np.hstack((np.transpose(arrays_stacked),fourth))"
   ]
  },
  {
   "cell_type": "code",
   "execution_count": 77,
   "id": "79da7408",
   "metadata": {},
   "outputs": [
    {
     "data": {
      "text/plain": [
       "(1000, 4)"
      ]
     },
     "execution_count": 77,
     "metadata": {},
     "output_type": "execute_result"
    }
   ],
   "source": [
    "fourth_column_added.shape"
   ]
  },
  {
   "cell_type": "markdown",
   "id": "c6d58969",
   "metadata": {},
   "source": [
    "Problem 8"
   ]
  },
  {
   "cell_type": "code",
   "execution_count": 78,
   "id": "28c48d71",
   "metadata": {},
   "outputs": [],
   "source": [
    "vector = np.array([1,2,3,4])"
   ]
  },
  {
   "cell_type": "code",
   "execution_count": 80,
   "id": "4f30d963",
   "metadata": {},
   "outputs": [],
   "source": [
    "new_answer = fourth_column_added+vector"
   ]
  },
  {
   "cell_type": "markdown",
   "id": "d942d12f",
   "metadata": {},
   "source": [
    "Problem 9"
   ]
  },
  {
   "cell_type": "code",
   "execution_count": 87,
   "id": "9fae1b44",
   "metadata": {},
   "outputs": [],
   "source": [
    "array_of_ones = np.transpose(np.ones(4)[:,None])"
   ]
  },
  {
   "cell_type": "code",
   "execution_count": 88,
   "id": "ffcd2027",
   "metadata": {},
   "outputs": [],
   "source": [
    "final_answer = new_answer*array_of_ones"
   ]
  },
  {
   "cell_type": "code",
   "execution_count": 89,
   "id": "4ad9967c",
   "metadata": {},
   "outputs": [],
   "source": [
    "amount_of_unique = np.unique(final_answer)"
   ]
  },
  {
   "cell_type": "code",
   "execution_count": 91,
   "id": "f4640a5e",
   "metadata": {},
   "outputs": [
    {
     "data": {
      "text/plain": [
       "1704"
      ]
     },
     "execution_count": 91,
     "metadata": {},
     "output_type": "execute_result"
    }
   ],
   "source": [
    "len(amount_of_unique)"
   ]
  },
  {
   "cell_type": "code",
   "execution_count": null,
   "id": "c05cd33d",
   "metadata": {},
   "outputs": [],
   "source": []
  }
 ],
 "metadata": {
  "kernelspec": {
   "display_name": "Python 3",
   "language": "python",
   "name": "python3"
  },
  "language_info": {
   "codemirror_mode": {
    "name": "ipython",
    "version": 3
   },
   "file_extension": ".py",
   "mimetype": "text/x-python",
   "name": "python",
   "nbconvert_exporter": "python",
   "pygments_lexer": "ipython3",
   "version": "3.8.8"
  }
 },
 "nbformat": 4,
 "nbformat_minor": 5
}
